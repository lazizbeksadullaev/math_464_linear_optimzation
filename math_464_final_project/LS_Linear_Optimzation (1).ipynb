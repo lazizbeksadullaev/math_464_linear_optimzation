{
  "cells": [
    {
      "cell_type": "markdown",
      "source": [
        "# **LINEAR OPTIMIZATION FINAL PROJECT**"
      ],
      "metadata": {
        "id": "fIbsZvGWsfl1"
      }
    },
    {
      "cell_type": "markdown",
      "source": [
        "# **ROBUST SHORTEST TIME DELIVERY PATHS**"
      ],
      "metadata": {
        "id": "zOnIk_bosiN4"
      }
    },
    {
      "cell_type": "markdown",
      "source": [
        "<p align=\"justify\">\n",
        "The Amazon company has a startup project specializing in package delivery within the western areas of the United States. They advertise guaranteed delivery within a specified time. Their quoted times are not always shorter than other delivery companies, but delivery comes with a money-back guarantee if, for any reason, the delivery is not met on time. The company necessarily has a vested interest in finding delivery routes that are not only efficient (short) but robust (not likely to incur delays). In order to set their rates, the company is seeking a method for finding an optimal route between two given locations.\n",
        "\n",
        "<p align=\"justify\">\n",
        "The problem of finding a shortest path between two locations can be easily solved as an integer program, provided that the number of possible routes is not too large. Also,the problem of finding the route least likely to incur a delay is similarly solved. Amazon would like to solve the problem of a compromise route that helps then maintain competitiveness without significant reduction in promised delivery time.\n",
        "\n",
        "<p align=\"justify\">\n",
        "You are given the following tasks:\n",
        "<p align=\"justify\">\n",
        "1. Use the provided network data to solve the shortest path problem for user-supplied starting and ending locations. Ignore any possible delays.\n",
        "<p align=\"justify\">\n",
        "2. Use the provided network data to solve the minimum delay likelihood problem for user-supplied starting and ending locations. Ignore travel times.\n",
        "<p align=\"justify\">\n",
        "3. Combine the two previous solution methods where the objective is to minimize the weighted sum of travel time and delay likelihood. The relative weight should be an adjustable parameter. Determine a reasonable relative weighting based on experiments you perform.\n",
        "<p align=\"justify\">\n",
        "4. Solve the combined problem using your weight selection with starting city A and ending locations at every other city. Report your findings and make recommendations to the company.\n",
        "\n",
        "<p align=\"justify\">\n",
        "The data set is provided as two files distance.csv and delay.csv which are commadelimited 15 x 15 arrays. The entry in the ith row and jth column of the respective arrays gives the distance (or delay probability) between city i and city j. If an array has entry zero,\n",
        "this indicates that the cities are not connected by a path.\n",
        "<p align=\"justify\">\n",
        "The networks we will consider are symmetric - distances and delays do not depend on the direction of travel."
      ],
      "metadata": {
        "id": "2QxlRrhHs2fX"
      }
    },
    {
      "cell_type": "markdown",
      "source": [
        "# **MODELING THE PROBLEM**\n",
        "\n",
        "---\n",
        "\n"
      ],
      "metadata": {
        "id": "RtQxQI4Ik1-m"
      }
    },
    {
      "cell_type": "markdown",
      "source": [
        "\n",
        "Let $x_{ij}$ be a binary decision variable where:\n",
        "\n",
        "$x_{ij} = 1$ if the path from city $i$ to city $j$ is included in the travel from city $A$ to city $O$ , and\n",
        "$x_{ij} = 0$ otherwise.\n",
        "\n",
        "The objective function to minimize is the total distance of the path:\n",
        "\n",
        "\\begin{equation}\n",
        "\\text{Minimize} \\sum_{i,j} d_{ij} \\cdot x_{ij}\n",
        "\\end{equation}\n",
        "\n",
        "Subject to the following constraints:\n",
        "\n",
        "Ensure that there is zero or one outgoing edge from each inner city(except for A, O):\n",
        "\n",
        "\\begin{equation}\n",
        "\\sum_{j} x_{ij} = y_{j} \\quad \\text{for} \\quad i \\in \\{B, C, D, E, F, G, H, I, J, K, L, M, N\\}\n",
        "\\end{equation}\n",
        "\n",
        "Ensure that there is zero or one incoming edge to each inner city (except for A, O):\n",
        "\n",
        "\\begin{equation}\n",
        "\\sum_{i} x_{ij} = y_{i} \\quad \\text{for} \\quad j \\in \\{B, C, D, E, F, G, H, I, J, K, L, M, N\\}\n",
        "\\end{equation}\n",
        "\n",
        "where $y_{j}  \\in \\{0, 1\\}$, and $y_{i}  \\in \\{0, 1\\}$. Note that although it seems we used different notations for the number of outgoing and incoming edges from a city, they ( $y_{j}$ and $y_{i}$) are the same numbers for the same city. For example, if the number of outgoing edges from city $B$ ($j=B$) is $y_{B}$, so is that of incoming edges to city $B$ ($i = B$), which means $y_{j}$ and $y_{i}$ are the same numbers for the same city.\n",
        "\n",
        "\n",
        "Ensure that the destination city has exactly zero outgoing edges:\n",
        "\n",
        "\\begin{equation}\n",
        "\\sum_{j} x_{Oj} = 1 \\quad \\text{for} \\quad j \\in \\{A, B, C, D, E, F, G, H, I, J, K, L, M, N, O\\}\n",
        "\\end{equation}\n",
        "\n",
        "Ensure that the starting city has exactly zero incoming edges:\n",
        "\n",
        "\\begin{equation}\n",
        "\\sum_{i} x_{iA} = 0 \\quad \\text{for} \\quad i \\in \\{A, B, C, D, E, F, G, H, I, J, K, L, M, N, O\\}\n",
        "\\end{equation}\n",
        "\n",
        "Ensure that the destination city has exactly one incoming edge:\n",
        "\n",
        "\\begin{equation}\n",
        "\\sum_{i} x_{iO} = 1 \\quad \\text{for} \\quad i \\in \\{A, B, C, D, E, F, G, H, I, J, K, L, M, N, O\\}\n",
        "\\end{equation}\n",
        "\n",
        "Ensure that the starting city has exactly one outgoing edge:\n",
        "\n",
        "\\begin{equation}\n",
        "\\sum_{j} x_{Aj} = 0 \\quad \\text{for} \\quad j \\in \\{A, B, C, D, E, F, G, H, I, J, K, L, M, N, O\\}\n",
        "\\end{equation}\n",
        "\n",
        "$x_{ij}$, $y_{i}  \\in \\{0, 1\\}$,  $\\quad \\forall i,j \\in \\{A, B, C, D, E, F, G, H, I, J, K, L, M, N, O\\}$\n",
        "\n",
        "These constraints ensure that:\n",
        "\n",
        "- There is exactly one path from the starting city to the destination city.\n",
        "- There are no cycles in the path.\n",
        "- Each city (excluding the starting and destination cities) may not necessarily be visited exactly once.\n",
        "\n",
        "Solving this linear programming problem will give us the shortest path between the given cities both in terms of distances and likelikood of delays.\n",
        "\n"
      ],
      "metadata": {
        "id": "xaE9OOaLlnYt"
      }
    },
    {
      "cell_type": "markdown",
      "metadata": {
        "id": "AFOUsH6K0jAJ"
      },
      "source": [
        "# Receiving and reading the data"
      ]
    },
    {
      "cell_type": "code",
      "execution_count": 131,
      "metadata": {
        "id": "eeqQLb4T03yO"
      },
      "outputs": [],
      "source": [
        "# Obtaining given data\n",
        "import numpy as np\n",
        "from numpy import genfromtxt\n",
        "\n",
        "\n",
        "# cities = ['A', 'B', 'C', 'D', 'E', 'F', 'G', 'H', 'I', 'J', 'K', 'L', 'M', 'N', 'O'][:5]\n",
        "cities = ['A', 'B', 'C', 'D', 'E', 'F', 'G', 'H', 'I', 'J', 'K', 'L', 'M', 'N', 'O']\n",
        "start_city = cities[0]\n",
        "destination_city = cities[-1]\n",
        "\n",
        "# Number of cities\n",
        "num_cities = len(cities)\n",
        "\n",
        "# my_distances = genfromtxt('distance.csv', delimiter=',')[:5, :5]\n",
        "my_distances = genfromtxt('distance.csv', delimiter=',')\n",
        "my_delays = genfromtxt('delay.csv', delimiter=',')\n",
        "# my_distances[1, 3] = 6\n",
        "# my_distances[3, 1] = 6\n",
        "\n",
        "# distances = my_distances[:4, :4]\n",
        "d = my_distances.flatten()\n",
        "rhs_binary = np.zeros(num_cities-2)\n",
        "d = np.concatenate((d, rhs_binary))\n",
        "\n",
        "p = my_delays.flatten()\n",
        "rhs_binary = np.zeros(num_cities-2)\n",
        "p = np.concatenate((p, rhs_binary))\n",
        "\n",
        "# print(my_distances)\n",
        "# print(my_delays)"
      ]
    },
    {
      "cell_type": "markdown",
      "metadata": {
        "id": "y4c324cX0aFK"
      },
      "source": [
        "# Creating the constraints"
      ]
    },
    {
      "cell_type": "code",
      "source": [
        "def get_constraints(file_name: str):\n",
        "\n",
        "    \"\"\"\n",
        "    Generate constraints for an optimization problem based on given data.\n",
        "\n",
        "    Args:\n",
        "    - file_name (str): The name of the file containing the data.\n",
        "                       It should be either 'distance.csv' or 'delay.csv'.\n",
        "\n",
        "    Returns:\n",
        "    - distances (numpy.ndarray): The distances between cities.\n",
        "    - A_ineq (None): Inequality constraint matrix (None for this function).\n",
        "    - b_ineq (None): Inequality bounds (None for this function).\n",
        "    - Ae (numpy.ndarray): Equality constraint matrix.\n",
        "    - be (numpy.ndarray): Equality bounds.\n",
        "    \"\"\"\n",
        "\n",
        "    if file_name == 'distance.csv':\n",
        "        distances = my_distances\n",
        "    elif file_name == 'delay.csv':\n",
        "        distances = my_delays\n",
        "    else:\n",
        "        print(\"File not found\")\n",
        "\n",
        "\n",
        "    # Distance between cities (replace with actual distances)\n",
        "    # distances = my_distances[:4, :4]\n",
        "    # distances = my_distances\n",
        "    # delays = my_delays\n",
        "\n",
        "    # Find the maximum distance\n",
        "    max_distance = np.max(distances)\n",
        "\n",
        "    # Update main diagonal elements\n",
        "    np.fill_diagonal(distances, max_distance + 1)\n",
        "    # print(\"distances:\")\n",
        "    # print(distances)\n",
        "\n",
        "    # Inequality Constraints:\n",
        "\n",
        "    # Constraint coefficients for exactly zero or one outgoing edge from each inner city(except for A, O)\n",
        "    A_outgoing = []\n",
        "    b_outgoing = []\n",
        "    for i_index, i in enumerate(cities[1:-1]):  # Exclude the last city\n",
        "        # print(i_index, i)\n",
        "        row = np.zeros(num_cities ** 2)\n",
        "        rhs_binary = np.zeros(num_cities-2) # to count # of outgoing edges from each inner cities, B, C, ..., N.\n",
        "        rhs_binary[i_index] = -1 # outgoing = incoming, so same rhs binaries\n",
        "        for j in cities:\n",
        "            if j != i and distances[cities.index(i), cities.index(j)] > 0:\n",
        "                j_index = cities.index(j)\n",
        "                row[num_cities * cities.index(i) + cities.index(j)] = 1\n",
        "        row = np.concatenate((row, rhs_binary))\n",
        "        A_outgoing.append(row)\n",
        "        b_outgoing.append(0)\n",
        "    # print(\"A_outgoing:\")\n",
        "    # print(np.array(A_outgoing))\n",
        "\n",
        "    # Constraint coefficients for exactly zero or one incoming edge from each inner city(except for A, O)\n",
        "    A_incoming = []\n",
        "    b_incoming = []\n",
        "\n",
        "    for j_index, j in enumerate(cities[1:-1]):  # Exclude the last city\n",
        "        row = np.zeros(num_cities ** 2)\n",
        "        rhs_binary = np.zeros(num_cities-2) # to count # of incoming edges from each inner cities, B, C, ..., N.\n",
        "        rhs_binary[j_index] = -1 # outgoing = incoming, so same rhs binaries\n",
        "        for i_index, i in enumerate(cities):\n",
        "            if i != j and distances[cities.index(i), cities.index(j)] > 0:\n",
        "                row[num_cities * cities.index(i) + cities.index(j)] = 1\n",
        "        row = np.concatenate((row, rhs_binary))\n",
        "        A_incoming.append(row)\n",
        "        b_incoming.append(0)\n",
        "    # print(\"A_incoming:\")\n",
        "    # print(np.array(A_incoming))\n",
        "\n",
        "    A = np.vstack((A_outgoing, A_incoming))\n",
        "    b = np.concatenate((b_outgoing, b_incoming))\n",
        "    # print(\"\\nInequality Constraints (A):\")\n",
        "    # print(np.array(A))\n",
        "    # print(\"\\nInquality Bounds (b):\")\n",
        "    # print(np.array(b))\n",
        "\n",
        "    # Equality Constraints\n",
        "    A_eq = []\n",
        "    b_eq = []\n",
        "\n",
        "    # Destination city constraint for having 0 outgoing edges\n",
        "    row = np.zeros(num_cities ** 2)\n",
        "    rhs_binary = np.zeros(num_cities-2)\n",
        "    for j in cities:\n",
        "        if distances[cities.index(destination_city), cities.index(j)] > 0:\n",
        "            row[num_cities * cities.index(destination_city) + cities.index(j)] = 1\n",
        "    row = np.concatenate((row, rhs_binary))\n",
        "    A_eq.append(row)\n",
        "    b_eq.append(0)\n",
        "    # print(\"A_eq:\")\n",
        "    # print(np.array(A_eq))\n",
        "\n",
        "\n",
        "    # Starting city constraint for having zero incoming edges\n",
        "    row = np.zeros(num_cities ** 2)\n",
        "    rhs_binary = np.zeros(num_cities-2)\n",
        "    for i in cities:\n",
        "        if distances[cities.index(i), cities.index(start_city)] > 0:\n",
        "            row[num_cities * cities.index(i) + cities.index(start_city)] = 1\n",
        "    row = np.concatenate((row, rhs_binary))\n",
        "    A_eq.append(row)\n",
        "    b_eq.append(0)\n",
        "    # print(\"A_eq:\")\n",
        "    # print(np.array(A_eq))\n",
        "\n",
        "    # Destination city constraint for having 1 incoming edge\n",
        "    row = np.zeros(num_cities ** 2)\n",
        "    rhs_binary = np.zeros(num_cities-2)\n",
        "    for i in cities:\n",
        "        if distances[cities.index(i), cities.index(destination_city)] > 0:\n",
        "            row[num_cities * cities.index(i) + cities.index(destination_city)] = 1\n",
        "    row = np.concatenate((row, rhs_binary))\n",
        "    A_eq.append(row)\n",
        "    b_eq.append(1)\n",
        "    # print(\"A_eq:\")\n",
        "    # print(np.array(A_eq))\n",
        "\n",
        "    # Starting city constraint for having 1 outgoing edge\n",
        "    row = np.zeros(num_cities ** 2)\n",
        "    rhs_binary = np.zeros(num_cities-2)\n",
        "    for j in cities:\n",
        "        if distances[cities.index(start_city), cities.index(j)] > 0:\n",
        "            row[num_cities * cities.index(start_city) + cities.index(j)] = 1\n",
        "    row = np.concatenate((row, rhs_binary))\n",
        "    A_eq.append(row)\n",
        "    b_eq.append(1)\n",
        "    # print(\"A_eq:\")\n",
        "    # print(np.array(A_eq))\n",
        "\n",
        "    Ae = np.vstack((A, A_eq)) # stacking all LHS of constraints together\n",
        "    be = np.concatenate((b, b_eq)) # stacking all RHS of constraints together\n",
        "    A_ineq = None\n",
        "    b_ineq = None\n",
        "\n",
        "\n",
        "    return distances, A_ineq, b_ineq, Ae, be\n",
        "\n",
        "if __name__ == \"__main__\":\n",
        "\n",
        "    distances_received, A_ineq, b_ineq, Ae, be = get_constraints('distance.csv')\n",
        "    print(\"distances_received :\")\n",
        "    print(distances_received)\n",
        "\n",
        "    print(\"\\nEquality Constraints (Ae):\")\n",
        "    print(np.array(Ae))\n",
        "    print(\"\\nEquality Bounds (be):\")\n",
        "    print(np.array(be))\n",
        "    print(\"Ae.shape: \", np.array(Ae).shape)\n"
      ],
      "metadata": {
        "colab": {
          "base_uri": "https://localhost:8080/"
        },
        "id": "-pwGgz8mwot1",
        "outputId": "33c8b553-9f54-44bf-a092-71fc106510a6"
      },
      "execution_count": 132,
      "outputs": [
        {
          "output_type": "stream",
          "name": "stdout",
          "text": [
            "distances_received :\n",
            "[[74.  0.  0. 42.  0.  0.  0. 59. 29.  0.  0. 25.  0.  0.  0.]\n",
            " [ 0. 74.  0.  8. 21.  0.  0.  0.  0.  0. 25.  0.  0.  0. 25.]\n",
            " [ 0.  0. 74.  0.  0.  0. 31. 62.  0. 11.  0.  0. 40.  0.  0.]\n",
            " [42.  8.  0. 74. 28.  0.  0.  0. 42.  0. 29. 40.  0.  0.  0.]\n",
            " [ 0. 21.  0. 28. 74.  0.  0.  0.  0.  0.  0. 62. 65.  0. 26.]\n",
            " [ 0.  0.  0.  0.  0. 74. 25. 10. 28.  0.  0.  0.  0.  0.  0.]\n",
            " [ 0.  0. 31.  0.  0. 25. 74. 32. 41.  0. 50.  0. 54.  0.  0.]\n",
            " [59.  0. 62.  0.  0. 10. 32. 74. 35. 73.  0.  0.  0.  0.  0.]\n",
            " [29.  0.  0. 42.  0. 28. 41. 35. 74.  0. 46.  0.  0.  0.  0.]\n",
            " [ 0.  0. 11.  0.  0.  0.  0. 73.  0. 74.  0.  0. 40.  0.  0.]\n",
            " [ 0. 25.  0. 29.  0.  0. 50.  0. 46.  0. 74.  0. 40.  9. 13.]\n",
            " [25.  0.  0. 40. 62.  0.  0.  0.  0.  0.  0. 74.  0.  0.  0.]\n",
            " [ 0.  0. 40.  0. 65.  0. 54.  0.  0. 40. 40.  0. 74. 33. 40.]\n",
            " [ 0.  0.  0.  0.  0.  0.  0.  0.  0.  0.  9.  0. 33. 74.  9.]\n",
            " [ 0. 25.  0.  0. 26.  0.  0.  0.  0.  0. 13.  0. 40.  9. 74.]]\n",
            "\n",
            "Equality Constraints (Ae):\n",
            "[[0. 0. 0. ... 0. 0. 0.]\n",
            " [0. 0. 0. ... 0. 0. 0.]\n",
            " [0. 0. 0. ... 0. 0. 0.]\n",
            " ...\n",
            " [1. 0. 0. ... 0. 0. 0.]\n",
            " [0. 0. 0. ... 0. 0. 0.]\n",
            " [1. 0. 0. ... 0. 0. 0.]]\n",
            "\n",
            "Equality Bounds (be):\n",
            "[0 0 0 0 0 0 0 0 0 0 0 0 0 0 0 0 0 0 0 0 0 0 0 0 0 0 0 0 1 1]\n",
            "Ae.shape:  (30, 238)\n"
          ]
        }
      ]
    },
    {
      "cell_type": "markdown",
      "source": [
        "# **SOLVING THE INTEGER PROBLEM PROBLEM**"
      ],
      "metadata": {
        "id": "wvjnfWDKsDab"
      }
    },
    {
      "cell_type": "code",
      "source": [
        "import pandas as pd\n",
        "import numpy as np\n",
        "import scipy.optimize as opt\n",
        "from os import strerror\n",
        "\n",
        "\"\"\"\n",
        "All decision variables Xij, Yi are binaries from {0, 1}:\n",
        "\"\"\"\n",
        "\n",
        "\n",
        "def solve_IP(file_name: str, objective_vector):\n",
        "\n",
        "    \"\"\"\n",
        "    Solves an Integer Programming (IP) problem given the data file and the objective vector.\n",
        "\n",
        "    Args:\n",
        "    - file_name (str): The name of the file containing the data.\n",
        "    - objective_vector (numpy.ndarray): The objective vector for the IP problem.\n",
        "\n",
        "    Returns:\n",
        "    - objecvtive_value (float): The optimal objective value.\n",
        "    - solution (numpy.ndarray): The optimal solution vector.\n",
        "    \"\"\"\n",
        "\n",
        "    # The problem we will solve is:\n",
        "\n",
        "    # min z  =  dAA*xAA +  dAB*xAB + ... + dOA*xOA + ...+ dOO*xOO + 0*yB + 0*yC + ... + 0*yN\n",
        "\n",
        "    # s.t.    Ae x = be\n",
        "\n",
        "    #         xAA, xAB, ... ,  xOO, yB, yC, ..., yN in {0, 1}\n",
        "\n",
        "\n",
        "    # First build the objective vector ( matrix dij of distances from city i to j):\n",
        "    c = objective_vector\n",
        "    distances, A_ineq, b_ineq, Ae, be = get_constraints(file_name = file_name)\n",
        "\n",
        "\n",
        "    # Next, create the coefficient array for the inequality constraints.\n",
        "    # Note that the inequalities must be Ax <= b, so some sign\n",
        "    # changes result when converting >= into <=.\n",
        "    # A_ineq = None # if no inequality constraints\n",
        "\n",
        "\n",
        "    # Next the right-hand-side vector for the inequalities\n",
        "    # Sign changes can occur here too.\n",
        "    # b_ineq = None # if no inequality constraints\n",
        "\n",
        "\n",
        "\n",
        "    #The coefficient matrix for the equality constraints and\n",
        "    # the right hand side vector.\n",
        "    # Ae = None # if no equality constraints\n",
        "\n",
        "    # be = None # if no equality constraints\n",
        "\n",
        "    # Next, we provide any lower and upper bound vectors, one\n",
        "    # value for each decision variable.  In this example all\n",
        "    # lower bound are zero and there are no upper bounds.\n",
        "    bounds = [(0, 1) for _ in range(num_cities**2 + num_cities - 2)] # considering added rhs_binary variables\n",
        "    # print(\"bounds.shape = \", bounds.shape )\n",
        "\n",
        "    # Lastly, we can specify which variables are required to be integer.\n",
        "    # If no variables are integer then isint=[];  In our example, only x2 is integer.\n",
        "    # isint = np.ones(num_cities + num_cities - 2)\n",
        "    isint = [1 for _ in range(num_cities**2 + num_cities - 2)]\n",
        "    # print(\"isint.shape = \", isint.shape)\n",
        "\n",
        "    # The call to the mixed integer solver looks like the following.\n",
        "    # Notice that we pass usual \"c\" when we have a minimization\n",
        "    # problem, we send \"-c\" when we have max problem.\n",
        "    # This is because the solver is expecting a minimization.\n",
        "\n",
        "    res=opt.linprog(c, A_ineq, b_ineq, Ae, be, bounds, integrality = isint)\n",
        "\n",
        "    # The result is stored in the dictionary variable \"res\".\n",
        "    # In particular, to show the optimal objective value and the\n",
        "    # optimal decision variable values:\n",
        "\n",
        "    objecvtive_value = res['fun']\n",
        "    solution = np.array(res['x'])\n",
        "\n",
        "    return objecvtive_value, solution\n",
        "\n",
        "if __name__ == \"__main__\":\n",
        "\n",
        "    objecvtive_value, solution = solve_IP(file_name = 'distance.csv', objective_vector = d)\n",
        "    print(\"objective vector :\")\n",
        "    print(d)\n",
        "    print(\"\\nmin z = \", objecvtive_value)\n",
        "    print(\"\\nat optimal solution x :\")\n",
        "    print(solution)"
      ],
      "metadata": {
        "colab": {
          "base_uri": "https://localhost:8080/"
        },
        "id": "kiUDBNQjHEcw",
        "outputId": "ecb7aee8-a70f-4c75-e261-620e3ffe6e0b"
      },
      "execution_count": 133,
      "outputs": [
        {
          "output_type": "stream",
          "name": "stdout",
          "text": [
            "objective vector :\n",
            "[ 0.  0.  0. 42.  0.  0.  0. 59. 29.  0.  0. 25.  0.  0.  0.  0.  0.  0.\n",
            "  8. 21.  0.  0.  0.  0.  0. 25.  0.  0.  0. 25.  0.  0.  0.  0.  0.  0.\n",
            " 31. 62.  0. 11.  0.  0. 40.  0.  0. 42.  8.  0.  0. 28.  0.  0.  0. 42.\n",
            "  0. 29. 40.  0.  0.  0.  0. 21.  0. 28.  0.  0.  0.  0.  0.  0.  0. 62.\n",
            " 65.  0. 26.  0.  0.  0.  0.  0.  0. 25. 10. 28.  0.  0.  0.  0.  0.  0.\n",
            "  0.  0. 31.  0.  0. 25.  0. 32. 41.  0. 50.  0. 54.  0.  0. 59.  0. 62.\n",
            "  0.  0. 10. 32.  0. 35. 73.  0.  0.  0.  0.  0. 29.  0.  0. 42.  0. 28.\n",
            " 41. 35.  0.  0. 46.  0.  0.  0.  0.  0.  0. 11.  0.  0.  0.  0. 73.  0.\n",
            "  0.  0.  0. 40.  0.  0.  0. 25.  0. 29.  0.  0. 50.  0. 46.  0.  0.  0.\n",
            " 40.  9. 13. 25.  0.  0. 40. 62.  0.  0.  0.  0.  0.  0.  0.  0.  0.  0.\n",
            "  0.  0. 40.  0. 65.  0. 54.  0.  0. 40. 40.  0.  0. 33. 40.  0.  0.  0.\n",
            "  0.  0.  0.  0.  0.  0.  0.  9.  0. 33.  0.  9.  0. 25.  0.  0. 26.  0.\n",
            "  0.  0.  0.  0. 13.  0. 40.  9.  0.  0.  0.  0.  0.  0.  0.  0.  0.  0.\n",
            "  0.  0.  0.  0.]\n",
            "\n",
            "min z =  75.0\n",
            "\n",
            "at optimal solution x :\n",
            "[ 0.  0.  0.  1.  0.  0.  0.  0. -0.  0.  0. -0.  0.  0.  0.  0.  0.  0.\n",
            "  0.  0.  0.  0.  0.  0.  0.  0.  0.  0.  0.  1.  0.  0.  0.  0.  0.  0.\n",
            "  0.  0.  0.  0.  0.  0.  0.  0.  0.  0.  1.  0.  0.  0.  0.  0.  0.  0.\n",
            "  0.  0.  0.  0.  0.  0.  0.  0.  0.  0.  0.  0.  0.  0.  0.  0.  0.  0.\n",
            "  0.  0. -0.  0.  0.  0.  0.  0.  0.  0.  0.  0.  0.  0.  0.  0.  0.  0.\n",
            "  0.  0.  0.  0.  0.  0.  0.  0.  0.  0.  0.  0.  0.  0.  0.  0.  0.  0.\n",
            "  0.  0.  0.  0.  0.  0.  0.  0.  0.  0.  0.  0.  0.  0.  0.  0.  0.  0.\n",
            "  0.  0.  0.  0.  0.  0.  0.  0.  0.  0.  0.  0.  0.  0.  0.  0.  0.  0.\n",
            "  0.  0.  0.  0.  0.  0.  0.  0.  0.  0.  0.  0.  0.  0.  0.  0.  0.  0.\n",
            "  0.  0. -0.  0.  0.  0.  0.  0.  0.  0.  0.  0.  0.  0.  0.  0.  0.  0.\n",
            "  0.  0.  0.  0.  0.  0.  0.  0.  0.  0.  0.  0.  0.  0.  0.  0.  0.  0.\n",
            "  0.  0.  0.  0.  0.  0.  0.  0.  0.  0.  0. -0.  0.  0.  0.  0.  0.  0.\n",
            "  0.  0.  0.  0.  0.  0.  0.  0.  0.  1.  0.  1.  0.  0.  0.  0. -0.  0.\n",
            " -0. -0.  0. -0.]\n"
          ]
        }
      ]
    },
    {
      "cell_type": "markdown",
      "source": [
        "# **PRESENTING SOLUTIONS**"
      ],
      "metadata": {
        "id": "sfxBs8fiqy33"
      }
    },
    {
      "cell_type": "code",
      "source": [
        "import pandas as pd\n",
        "import numpy as np\n",
        "import scipy.optimize as opt\n",
        "from os import strerror\n",
        "\n",
        "# Define lists to store the data\n",
        "alfa_list = []\n",
        "beta_list = []\n",
        "optimal_path_list = []\n",
        "cost_of_optimal_path_list = []\n",
        "total_distance_list = []\n",
        "delay_likelihood_list = []\n",
        "\n",
        "def call_LP_solver(alfa: float, beta:float, file_name: str):\n",
        "    \"\"\"\n",
        "      Solves the integer programming problem with the given alfa and beta values.\n",
        "\n",
        "      Args:\n",
        "      - alfa (float): Weighting factor for distance in the objective function.\n",
        "      - beta (float): Weighting factor for delay in the objective function.\n",
        "      - file_name (str): Name of the file containing distance and delay data.\n",
        "\n",
        "      Returns:\n",
        "      None\n",
        "\n",
        "      \"\"\"\n",
        "\n",
        "    global alfa_list, beta_list, optimal_path_list, cost_of_optimal_path_list, total_distance_list, delay_likelihood_list\n",
        "    # call_LP_solver does  c = alfa*distance + beta*delay as an objective vector to solve IP\n",
        "    average_d = d/np.mean(d)\n",
        "    average_p = p/np.mean(p)\n",
        "    c = alfa*average_d + beta*average_p\n",
        "    # c = alfa*d + beta*p\n",
        "    objecvtive_value, solution = solve_IP(file_name = file_name, objective_vector = c)\n",
        "    # print(objecvtive_value)\n",
        "    # print(solution)\n",
        "    # print(\"Optimal path in binary matrix form:\")\n",
        "    # print(solution[:num_cities**2].reshape(num_cities, num_cities))\n",
        "\n",
        "    # Store the data in lists\n",
        "    alfa_list.append(alfa)\n",
        "    beta_list.append(beta)\n",
        "\n",
        "    # Execute the code\n",
        "    if any(solution):\n",
        "        # print(\"Optimal path:\")\n",
        "        path = [start_city]  # Start from city 'A'\n",
        "        path_distance = []\n",
        "        next_city_index = 0  # Start from the first city in the solution vector\n",
        "        while path[-1] != destination_city:  # Continue until we reach the destination city 'E'\n",
        "            # Find the index of the next city with a value of 1 in the solution vector\n",
        "            solution_slice = solution[next_city_index * len(cities): (next_city_index + 1) * len(cities)]\n",
        "            # destination_slice = d[next_city_index * len(cities): (next_city_index + 1) * len(cities)]\n",
        "            destination_slice = alfa*d[next_city_index * len(cities): (next_city_index + 1) * len(cities)] + beta*p[next_city_index * len(cities): (next_city_index + 1) * len(cities)]\n",
        "            next_city_index = np.where(solution_slice == 1)[0][0]\n",
        "\n",
        "            # print(np.dot(solution_slice, destination_slice))\n",
        "            dist = str(np.dot(solution_slice, destination_slice))\n",
        "            path_distance.append(dist)\n",
        "\n",
        "            # Convert the index to the corresponding city label\n",
        "            next_city = cities[next_city_index]\n",
        "            path.append(next_city)\n",
        "\n",
        "        # Print the optimal path\n",
        "        print(' --> '.join(path))\n",
        "        print(' + '.join(path_distance), f' = {eval(\"+ \".join(path_distance))}')\n",
        "        # Splitting into integer and fractional parts\n",
        "        int_parts = [int(float(num)) for num in path_distance]\n",
        "        frac_parts = [float(num) - int(float(num)) for num in path_distance]\n",
        "        # Creating integ and frac parts\n",
        "\n",
        "        integ = ' + '.join([f'{num:.6f}' for num in int_parts])\n",
        "        frac = ' + '.join([f'{num:.6f}' for num in frac_parts])\n",
        "        print(integ, f' = {eval(integ)}', ' - \"total\" distance')\n",
        "        print(frac, f' = {eval(frac)}', ' - delay likelihood')\n",
        "\n",
        "        optimal_path_list.append(' --> '.join(path))\n",
        "        # cost_of_optimal_path_list.append(' + '.join(map(str, path_distance)))\n",
        "        # cost_of_optimal_path_list.append(' + '.join(path_distance) + f' = {eval(\"+ \".join(path_distance))}')\n",
        "        cost_of_optimal_path_list.append(f'{eval(\"+ \".join(path_distance))}'[:4])\n",
        "        # total_distance_list.append(integ + f' = {eval(integ)}')\n",
        "        total_distance_list.append(f'{eval(integ)}'[:4])\n",
        "        # delay_likelihood_list.append(frac + f' = {eval(frac)}')\n",
        "        delay_likelihood_list.append(f'{eval(frac)}'[:9])\n",
        "    else:\n",
        "        # print(\"No solution found.\")\n",
        "        optimal_path_list.append(\"No solution found.\")\n",
        "        cost_of_optimal_path_list.append(\"No solution found.\")\n",
        "        total_distance_list.append(\"No solution found.\")\n",
        "        delay_likelihood_list.append(\"No solution found.\")\n",
        "\n",
        "if __name__ == \"__main__\":\n",
        "\n",
        "    alfa = 1\n",
        "    beta = 0\n",
        "    file_name = 'distance.csv'\n",
        "    call_LP_solver(alfa, beta, file_name)"
      ],
      "metadata": {
        "colab": {
          "base_uri": "https://localhost:8080/"
        },
        "id": "uW8_fMuEEWIj",
        "outputId": "0a9ad71b-68ea-4227-ff55-8b9fbc267945"
      },
      "execution_count": 149,
      "outputs": [
        {
          "output_type": "stream",
          "name": "stdout",
          "text": [
            "A --> D --> B --> O\n",
            "42.0 + 8.0 + 25.0  = 75.0\n",
            "42.000000 + 8.000000 + 25.000000  = 75.0  - \"total\" distance\n",
            "0.000000 + 0.000000 + 0.000000  = 0.0  - delay likelihood\n"
          ]
        }
      ]
    },
    {
      "cell_type": "markdown",
      "source": [
        "# **1. Printing the solution for shortest distance part by ignoring any possible delays**"
      ],
      "metadata": {
        "id": "qNL08YbZFkmD"
      }
    },
    {
      "cell_type": "code",
      "source": [
        "call_LP_solver(alfa = 1, beta = 0, file_name = 'distance.csv')"
      ],
      "metadata": {
        "colab": {
          "base_uri": "https://localhost:8080/"
        },
        "id": "9D5W06nuFTU9",
        "outputId": "38721ab9-224d-45d4-d66d-e66318bae65c"
      },
      "execution_count": 150,
      "outputs": [
        {
          "output_type": "stream",
          "name": "stdout",
          "text": [
            "A --> D --> B --> O\n",
            "42.0 + 8.0 + 25.0  = 75.0\n",
            "42.000000 + 8.000000 + 25.000000  = 75.0  - \"total\" distance\n",
            "0.000000 + 0.000000 + 0.000000  = 0.0  - delay likelihood\n"
          ]
        }
      ]
    },
    {
      "cell_type": "markdown",
      "source": [
        "# **2. Printing the solution for minimum delay likelihood part by ignoring any possible long distances**"
      ],
      "metadata": {
        "id": "ClkCwHA5q7ep"
      }
    },
    {
      "cell_type": "code",
      "source": [
        "call_LP_solver(alfa = 0, beta = 1, file_name = 'delay.csv')"
      ],
      "metadata": {
        "colab": {
          "base_uri": "https://localhost:8080/"
        },
        "id": "LaduFZrrSLRa",
        "outputId": "7b86442d-29b1-4f97-8fb3-d5ebb57a7803"
      },
      "execution_count": 151,
      "outputs": [
        {
          "output_type": "stream",
          "name": "stdout",
          "text": [
            "A --> D --> E --> O\n",
            "0.005126 + 0.0017569 + 0.008132  = 0.015014900000000001\n",
            "0.000000 + 0.000000 + 0.000000  = 0.0  - \"total\" distance\n",
            "0.005126 + 0.001757 + 0.008132  = 0.015015  - delay likelihood\n"
          ]
        }
      ]
    },
    {
      "cell_type": "markdown",
      "source": [
        "# **3. Printing the solution for minimizing the weighted sum of travel time and delay likelihood**"
      ],
      "metadata": {
        "id": "0ztSjh25rjlW"
      }
    },
    {
      "cell_type": "code",
      "source": [
        "print(\"alfa*distances + beta*delays likelihood:\")\n",
        "alfa = float(input('alfa = '))\n",
        "beta = float(input('beta = '))\n",
        "file_name = 'distance.csv'\n",
        "call_LP_solver(alfa = alfa, beta = beta, file_name = file_name)"
      ],
      "metadata": {
        "colab": {
          "base_uri": "https://localhost:8080/"
        },
        "id": "SGJQkY_fSM4P",
        "outputId": "0bbcb508-bc4d-43cd-fe4f-fe878d4166de"
      },
      "execution_count": 152,
      "outputs": [
        {
          "output_type": "stream",
          "name": "stdout",
          "text": [
            "alfa*distances + beta*delays likelihood:\n",
            "alfa = 2\n",
            "beta = 3\n",
            "A --> D --> E --> O\n",
            "84.015378 + 56.0052707 + 52.024396  = 192.04504469999998\n",
            "84.000000 + 56.000000 + 52.000000  = 192.0  - \"total\" distance\n",
            "0.015378 + 0.005271 + 0.024396  = 0.045045  - delay likelihood\n"
          ]
        }
      ]
    },
    {
      "cell_type": "code",
      "source": [
        "print(\"alfa*distances + beta*delays likelihood:\")\n",
        "alfa = float(input('alfa = '))\n",
        "# beta = float(input('beta = '))\n",
        "file_name = 'distance.csv'\n",
        "for beta in np.arange(0, 1.1, 0.1):\n",
        "  print(f\"when alfa = {alfa}, beta = {beta} optimal path:\")\n",
        "  call_LP_solver(alfa = alfa, beta = beta, file_name = file_name)\n",
        "  print()"
      ],
      "metadata": {
        "colab": {
          "base_uri": "https://localhost:8080/"
        },
        "id": "2kB5u3ruvYWx",
        "outputId": "46b1787a-3ae4-427e-d613-b6cabcafc40a"
      },
      "execution_count": 153,
      "outputs": [
        {
          "output_type": "stream",
          "name": "stdout",
          "text": [
            "alfa*distances + beta*delays likelihood:\n",
            "alfa = 1\n",
            "when alfa = 1.0, beta = 0.0 optimal path:\n",
            "A --> D --> B --> O\n",
            "42.0 + 8.0 + 25.0  = 75.0\n",
            "42.000000 + 8.000000 + 25.000000  = 75.0  - \"total\" distance\n",
            "0.000000 + 0.000000 + 0.000000  = 0.0  - delay likelihood\n",
            "\n",
            "when alfa = 1.0, beta = 0.1 optimal path:\n",
            "A --> D --> B --> O\n",
            "42.0005126 + 8.0017342 + 25.0030107  = 75.0052575\n",
            "42.000000 + 8.000000 + 25.000000  = 75.0  - \"total\" distance\n",
            "0.000513 + 0.001734 + 0.003011  = 0.005258  - delay likelihood\n",
            "\n",
            "when alfa = 1.0, beta = 0.2 optimal path:\n",
            "A --> D --> B --> O\n",
            "42.0010252 + 8.0034684 + 25.0060214  = 75.010515\n",
            "42.000000 + 8.000000 + 25.000000  = 75.0  - \"total\" distance\n",
            "0.001025 + 0.003468 + 0.006021  = 0.010514  - delay likelihood\n",
            "\n",
            "when alfa = 1.0, beta = 0.30000000000000004 optimal path:\n",
            "A --> D --> E --> O\n",
            "42.0015378 + 28.00052707 + 26.0024396  = 96.00450447\n",
            "42.000000 + 28.000000 + 26.000000  = 96.0  - \"total\" distance\n",
            "0.001538 + 0.000527 + 0.002440  = 0.004505  - delay likelihood\n",
            "\n",
            "when alfa = 1.0, beta = 0.4 optimal path:\n",
            "A --> D --> E --> O\n",
            "42.0020504 + 28.00070276 + 26.0032528  = 96.00600596\n",
            "42.000000 + 28.000000 + 26.000000  = 96.0  - \"total\" distance\n",
            "0.002050 + 0.000703 + 0.003253  = 0.006006  - delay likelihood\n",
            "\n",
            "when alfa = 1.0, beta = 0.5 optimal path:\n",
            "A --> D --> E --> O\n",
            "42.002563 + 28.00087845 + 26.004066  = 96.00750744999999\n",
            "42.000000 + 28.000000 + 26.000000  = 96.0  - \"total\" distance\n",
            "0.002563 + 0.000878 + 0.004066  = 0.007507  - delay likelihood\n",
            "\n",
            "when alfa = 1.0, beta = 0.6000000000000001 optimal path:\n",
            "A --> D --> E --> O\n",
            "42.0030756 + 28.00105414 + 26.0048792  = 96.00900894\n",
            "42.000000 + 28.000000 + 26.000000  = 96.0  - \"total\" distance\n",
            "0.003076 + 0.001054 + 0.004879  = 0.009009  - delay likelihood\n",
            "\n",
            "when alfa = 1.0, beta = 0.7000000000000001 optimal path:\n",
            "A --> D --> E --> O\n",
            "42.0035882 + 28.00122983 + 26.0056924  = 96.01051043\n",
            "42.000000 + 28.000000 + 26.000000  = 96.0  - \"total\" distance\n",
            "0.003588 + 0.001230 + 0.005692  = 0.01051  - delay likelihood\n",
            "\n",
            "when alfa = 1.0, beta = 0.8 optimal path:\n",
            "A --> D --> E --> O\n",
            "42.0041008 + 28.00140552 + 26.0065056  = 96.01201191999999\n",
            "42.000000 + 28.000000 + 26.000000  = 96.0  - \"total\" distance\n",
            "0.004101 + 0.001406 + 0.006506  = 0.012013  - delay likelihood\n",
            "\n",
            "when alfa = 1.0, beta = 0.9 optimal path:\n",
            "A --> D --> E --> O\n",
            "42.0046134 + 28.00158121 + 26.0073188  = 96.01351341\n",
            "42.000000 + 28.000000 + 26.000000  = 96.0  - \"total\" distance\n",
            "0.004613 + 0.001581 + 0.007319  = 0.013513  - delay likelihood\n",
            "\n",
            "when alfa = 1.0, beta = 1.0 optimal path:\n",
            "A --> D --> E --> O\n",
            "42.005126 + 28.0017569 + 26.008132  = 96.0150149\n",
            "42.000000 + 28.000000 + 26.000000  = 96.0  - \"total\" distance\n",
            "0.005126 + 0.001757 + 0.008132  = 0.015015  - delay likelihood\n",
            "\n"
          ]
        }
      ]
    },
    {
      "source": [
        "print(\"alfa*distances + beta*delays likelihood:\")\n",
        "alfa = float(input('alfa = '))\n",
        "# beta = float(input('beta = '))\n",
        "file_name = 'distance.csv'\n",
        "for beta in np.arange(0.1, 0.3, 0.01):\n",
        "  print(f\"when alfa = {alfa}, beta = {beta} optimal path:\")\n",
        "  call_LP_solver(alfa = alfa, beta = beta, file_name = file_name)\n",
        "  print()"
      ],
      "cell_type": "code",
      "metadata": {
        "colab": {
          "base_uri": "https://localhost:8080/"
        },
        "id": "C-sgleYVv5d-",
        "outputId": "18772b86-4cce-47b3-ad5c-6fc294f20b97"
      },
      "execution_count": 154,
      "outputs": [
        {
          "output_type": "stream",
          "name": "stdout",
          "text": [
            "alfa*distances + beta*delays likelihood:\n",
            "alfa = 1\n",
            "when alfa = 1.0, beta = 0.1 optimal path:\n",
            "A --> D --> B --> O\n",
            "42.0005126 + 8.0017342 + 25.0030107  = 75.0052575\n",
            "42.000000 + 8.000000 + 25.000000  = 75.0  - \"total\" distance\n",
            "0.000513 + 0.001734 + 0.003011  = 0.005258  - delay likelihood\n",
            "\n",
            "when alfa = 1.0, beta = 0.11 optimal path:\n",
            "A --> D --> B --> O\n",
            "42.00056386 + 8.00190762 + 25.00331177  = 75.00578325\n",
            "42.000000 + 8.000000 + 25.000000  = 75.0  - \"total\" distance\n",
            "0.000564 + 0.001908 + 0.003312  = 0.005784  - delay likelihood\n",
            "\n",
            "when alfa = 1.0, beta = 0.12 optimal path:\n",
            "A --> D --> B --> O\n",
            "42.00061512 + 8.00208104 + 25.00361284  = 75.006309\n",
            "42.000000 + 8.000000 + 25.000000  = 75.0  - \"total\" distance\n",
            "0.000615 + 0.002081 + 0.003613  = 0.006309  - delay likelihood\n",
            "\n",
            "when alfa = 1.0, beta = 0.13 optimal path:\n",
            "A --> D --> B --> O\n",
            "42.00066638 + 8.00225446 + 25.00391391  = 75.00683475\n",
            "42.000000 + 8.000000 + 25.000000  = 75.0  - \"total\" distance\n",
            "0.000666 + 0.002254 + 0.003914  = 0.006834  - delay likelihood\n",
            "\n",
            "when alfa = 1.0, beta = 0.13999999999999999 optimal path:\n",
            "A --> D --> B --> O\n",
            "42.00071764 + 8.00242788 + 25.00421498  = 75.0073605\n",
            "42.000000 + 8.000000 + 25.000000  = 75.0  - \"total\" distance\n",
            "0.000718 + 0.002428 + 0.004215  = 0.0073609999999999995  - delay likelihood\n",
            "\n",
            "when alfa = 1.0, beta = 0.14999999999999997 optimal path:\n",
            "A --> D --> B --> O\n",
            "42.0007689 + 8.0026013 + 25.00451605  = 75.00788625\n",
            "42.000000 + 8.000000 + 25.000000  = 75.0  - \"total\" distance\n",
            "0.000769 + 0.002601 + 0.004516  = 0.007886  - delay likelihood\n",
            "\n",
            "when alfa = 1.0, beta = 0.15999999999999998 optimal path:\n",
            "A --> D --> B --> O\n",
            "42.00082016 + 8.00277472 + 25.00481712  = 75.00841199999999\n",
            "42.000000 + 8.000000 + 25.000000  = 75.0  - \"total\" distance\n",
            "0.000820 + 0.002775 + 0.004817  = 0.008412  - delay likelihood\n",
            "\n",
            "when alfa = 1.0, beta = 0.16999999999999998 optimal path:\n",
            "A --> D --> B --> O\n",
            "42.00087142 + 8.00294814 + 25.00511819  = 75.00893775\n",
            "42.000000 + 8.000000 + 25.000000  = 75.0  - \"total\" distance\n",
            "0.000871 + 0.002948 + 0.005118  = 0.008937  - delay likelihood\n",
            "\n",
            "when alfa = 1.0, beta = 0.17999999999999997 optimal path:\n",
            "A --> D --> B --> O\n",
            "42.00092268 + 8.00312156 + 25.00541926  = 75.0094635\n",
            "42.000000 + 8.000000 + 25.000000  = 75.0  - \"total\" distance\n",
            "0.000923 + 0.003122 + 0.005419  = 0.009464  - delay likelihood\n",
            "\n",
            "when alfa = 1.0, beta = 0.18999999999999995 optimal path:\n",
            "A --> D --> B --> O\n",
            "42.00097394 + 8.00329498 + 25.00572033  = 75.00998925\n",
            "42.000000 + 8.000000 + 25.000000  = 75.0  - \"total\" distance\n",
            "0.000974 + 0.003295 + 0.005720  = 0.009989000000000001  - delay likelihood\n",
            "\n",
            "when alfa = 1.0, beta = 0.19999999999999996 optimal path:\n",
            "A --> D --> B --> O\n",
            "42.0010252 + 8.0034684 + 25.0060214  = 75.010515\n",
            "42.000000 + 8.000000 + 25.000000  = 75.0  - \"total\" distance\n",
            "0.001025 + 0.003468 + 0.006021  = 0.010514  - delay likelihood\n",
            "\n",
            "when alfa = 1.0, beta = 0.20999999999999996 optimal path:\n",
            "A --> D --> B --> O\n",
            "42.00107646 + 8.00364182 + 25.00632247  = 75.01104075\n",
            "42.000000 + 8.000000 + 25.000000  = 75.0  - \"total\" distance\n",
            "0.001076 + 0.003642 + 0.006322  = 0.011040000000000001  - delay likelihood\n",
            "\n",
            "when alfa = 1.0, beta = 0.21999999999999995 optimal path:\n",
            "A --> D --> B --> O\n",
            "42.00112772 + 8.00381524 + 25.00662354  = 75.0115665\n",
            "42.000000 + 8.000000 + 25.000000  = 75.0  - \"total\" distance\n",
            "0.001128 + 0.003815 + 0.006624  = 0.011567  - delay likelihood\n",
            "\n",
            "when alfa = 1.0, beta = 0.22999999999999995 optimal path:\n",
            "A --> D --> B --> O\n",
            "42.00117898 + 8.00398866 + 25.00692461  = 75.01209225\n",
            "42.000000 + 8.000000 + 25.000000  = 75.0  - \"total\" distance\n",
            "0.001179 + 0.003989 + 0.006925  = 0.012093  - delay likelihood\n",
            "\n",
            "when alfa = 1.0, beta = 0.23999999999999994 optimal path:\n",
            "A --> D --> B --> O\n",
            "42.00123024 + 8.00416208 + 25.00722568  = 75.012618\n",
            "42.000000 + 8.000000 + 25.000000  = 75.0  - \"total\" distance\n",
            "0.001230 + 0.004162 + 0.007226  = 0.012618  - delay likelihood\n",
            "\n",
            "when alfa = 1.0, beta = 0.24999999999999992 optimal path:\n",
            "A --> D --> B --> O\n",
            "42.0012815 + 8.0043355 + 25.00752675  = 75.01314375\n",
            "42.000000 + 8.000000 + 25.000000  = 75.0  - \"total\" distance\n",
            "0.001281 + 0.004335 + 0.007527  = 0.013143  - delay likelihood\n",
            "\n",
            "when alfa = 1.0, beta = 0.2599999999999999 optimal path:\n",
            "A --> D --> E --> O\n",
            "42.00133276 + 28.000456794 + 26.00211432  = 96.003903874\n",
            "42.000000 + 28.000000 + 26.000000  = 96.0  - \"total\" distance\n",
            "0.001333 + 0.000457 + 0.002114  = 0.003904  - delay likelihood\n",
            "\n",
            "when alfa = 1.0, beta = 0.2699999999999999 optimal path:\n",
            "A --> D --> E --> O\n",
            "42.00138402 + 28.000474363 + 26.00219564  = 96.004054023\n",
            "42.000000 + 28.000000 + 26.000000  = 96.0  - \"total\" distance\n",
            "0.001384 + 0.000474 + 0.002196  = 0.004054  - delay likelihood\n",
            "\n",
            "when alfa = 1.0, beta = 0.2799999999999999 optimal path:\n",
            "A --> D --> E --> O\n",
            "42.00143528 + 28.000491932 + 26.00227696  = 96.004204172\n",
            "42.000000 + 28.000000 + 26.000000  = 96.0  - \"total\" distance\n",
            "0.001435 + 0.000492 + 0.002277  = 0.004204  - delay likelihood\n",
            "\n",
            "when alfa = 1.0, beta = 0.2899999999999999 optimal path:\n",
            "A --> D --> E --> O\n",
            "42.00148654 + 28.000509501 + 26.00235828  = 96.004354321\n",
            "42.000000 + 28.000000 + 26.000000  = 96.0  - \"total\" distance\n",
            "0.001487 + 0.000510 + 0.002358  = 0.0043549999999999995  - delay likelihood\n",
            "\n"
          ]
        }
      ]
    },
    {
      "cell_type": "code",
      "source": [
        "def create_dataframe():\n",
        "    # Create DataFrame from the lists\n",
        "    df = pd.DataFrame({\n",
        "        'alfa': alfa_list,\n",
        "        'beta': beta_list,\n",
        "        'optimal path': optimal_path_list,\n",
        "        'cost of path': cost_of_optimal_path_list,\n",
        "        'distance': total_distance_list,\n",
        "        'delay': delay_likelihood_list\n",
        "    })\n",
        "    return df\n",
        "\n",
        "if __name__ == \"__main__\":\n",
        "    result_df = create_dataframe()\n",
        "    print(result_df)"
      ],
      "metadata": {
        "colab": {
          "base_uri": "https://localhost:8080/"
        },
        "id": "-1IuGrZIc_9R",
        "outputId": "46f9d4e6-5b47-4a92-8365-c0d7560ae805"
      },
      "execution_count": 155,
      "outputs": [
        {
          "output_type": "stream",
          "name": "stdout",
          "text": [
            "    alfa  beta         optimal path cost of path distance      delay\n",
            "0    1.0  0.00  A --> D --> B --> O         75.0     75.0        0.0\n",
            "1    1.0  0.00  A --> D --> B --> O         75.0     75.0        0.0\n",
            "2    0.0  1.00  A --> D --> E --> O         0.01      0.0   0.015015\n",
            "3    2.0  3.00  A --> D --> E --> O         192.     192.   0.045045\n",
            "4    1.0  0.00  A --> D --> B --> O         75.0     75.0        0.0\n",
            "5    1.0  0.10  A --> D --> B --> O         75.0     75.0   0.005258\n",
            "6    1.0  0.20  A --> D --> B --> O         75.0     75.0   0.010514\n",
            "7    1.0  0.30  A --> D --> E --> O         96.0     96.0   0.004505\n",
            "8    1.0  0.40  A --> D --> E --> O         96.0     96.0   0.006006\n",
            "9    1.0  0.50  A --> D --> E --> O         96.0     96.0   0.007507\n",
            "10   1.0  0.60  A --> D --> E --> O         96.0     96.0   0.009009\n",
            "11   1.0  0.70  A --> D --> E --> O         96.0     96.0    0.01051\n",
            "12   1.0  0.80  A --> D --> E --> O         96.0     96.0   0.012013\n",
            "13   1.0  0.90  A --> D --> E --> O         96.0     96.0   0.013513\n",
            "14   1.0  1.00  A --> D --> E --> O         96.0     96.0   0.015015\n",
            "15   1.0  0.10  A --> D --> B --> O         75.0     75.0   0.005258\n",
            "16   1.0  0.11  A --> D --> B --> O         75.0     75.0   0.005784\n",
            "17   1.0  0.12  A --> D --> B --> O         75.0     75.0   0.006309\n",
            "18   1.0  0.13  A --> D --> B --> O         75.0     75.0   0.006834\n",
            "19   1.0  0.14  A --> D --> B --> O         75.0     75.0  0.0073609\n",
            "20   1.0  0.15  A --> D --> B --> O         75.0     75.0   0.007886\n",
            "21   1.0  0.16  A --> D --> B --> O         75.0     75.0   0.008412\n",
            "22   1.0  0.17  A --> D --> B --> O         75.0     75.0   0.008937\n",
            "23   1.0  0.18  A --> D --> B --> O         75.0     75.0   0.009464\n",
            "24   1.0  0.19  A --> D --> B --> O         75.0     75.0  0.0099890\n",
            "25   1.0  0.20  A --> D --> B --> O         75.0     75.0   0.010514\n",
            "26   1.0  0.21  A --> D --> B --> O         75.0     75.0  0.0110400\n",
            "27   1.0  0.22  A --> D --> B --> O         75.0     75.0   0.011567\n",
            "28   1.0  0.23  A --> D --> B --> O         75.0     75.0   0.012093\n",
            "29   1.0  0.24  A --> D --> B --> O         75.0     75.0   0.012618\n",
            "30   1.0  0.25  A --> D --> B --> O         75.0     75.0   0.013143\n",
            "31   1.0  0.26  A --> D --> E --> O         96.0     96.0   0.003904\n",
            "32   1.0  0.27  A --> D --> E --> O         96.0     96.0   0.004054\n",
            "33   1.0  0.28  A --> D --> E --> O         96.0     96.0   0.004204\n",
            "34   1.0  0.29  A --> D --> E --> O         96.0     96.0  0.0043549\n"
          ]
        }
      ]
    },
    {
      "cell_type": "markdown",
      "source": [
        "# **4. Printing the solution for the combined problem using weight selection with starting city A and ending location at city O.**"
      ],
      "metadata": {
        "id": "IVjP26k22nEx"
      }
    },
    {
      "cell_type": "markdown",
      "source": [
        "**Report about out findings and recommendations to the company:**"
      ],
      "metadata": {
        "id": "xoLQZb2U3_s5"
      }
    },
    {
      "cell_type": "markdown",
      "source": [
        "<p align=\"justify\">\n",
        "In conclusion, our experiments reveal that in real-life scenarios, the distances between cities remain constant, indicating that alfa is always equal to 1. By running a loop for beta within the range of [0, 1], we observe a transition in the optimal path from \"A → D → B → O\" to \"A → D → E → O\" as beta increases from 0.1 to 0.3. To gain deeper insights into the range of beta values where the optimal path changes, we conduct a secondary loop within the range of [0.1, 0.3] with a step size of 0.01.\n",
        "Our research indicates that this transition occurs between beta = 0.25 and beta = 0.26. At beta = 0.25, the optimal path is \"A → D → B → O\" with a total distance of 75.0 miles and a delay likelihood of 0.013143. However, at beta = 0.26, the optimal path shifts to \"A → D → E → O\" with a total distance of 96.0 miles and a delay likelihood of 0.003904.\n",
        "\n",
        "Ultimately, the choice between these two options rests on the company's resources. Opting for a shorter travel distance of 75 miles may result in a higher delay likelihood of 0.013143 (meaning 1.3 % chance of having delay), whereas selecting the longer route of 96 miles offers a lower delay likelihood of 0.003904 ( meaning 0.3 % chance of having delay). The decision should be made considering the company's financial resources and the trade-off between travel distance and delay likelihood."
      ],
      "metadata": {
        "id": "_gCdABY3xdov"
      }
    },
    {
      "cell_type": "code",
      "source": [
        "# To download:\n",
        "# !sudo apt-get install texlive-xetex texlive-fonts-recommended texlive-plain-generic\n",
        "# !jupyter nbconvert --to pdf /content/LS_Linear_Optimzation.ipynb"
      ],
      "metadata": {
        "id": "oViqiajob8OZ"
      },
      "execution_count": 81,
      "outputs": []
    },
    {
      "cell_type": "code",
      "source": [],
      "metadata": {
        "id": "H5iLu2GOhpKn"
      },
      "execution_count": 81,
      "outputs": []
    }
  ],
  "metadata": {
    "colab": {
      "collapsed_sections": [
        "zOnIk_bosiN4",
        "RtQxQI4Ik1-m"
      ],
      "provenance": []
    },
    "kernelspec": {
      "display_name": "Python 3",
      "name": "python3"
    },
    "language_info": {
      "name": "python"
    }
  },
  "nbformat": 4,
  "nbformat_minor": 0
}