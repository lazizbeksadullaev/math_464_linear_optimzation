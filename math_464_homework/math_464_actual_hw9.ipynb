{
  "cells": [
    {
      "cell_type": "markdown",
      "metadata": {
        "id": "5LC0g8q0iUqO"
      },
      "source": [
        "#**Math 464. HW9. Lazizbek**"
      ]
    },
    {
      "cell_type": "markdown",
      "source": [
        "# **Exercise 4.1**"
      ],
      "metadata": {
        "id": "jOaQbeH2cUVK"
      }
    },
    {
      "cell_type": "markdown",
      "metadata": {
        "id": "zNvYZcmXiUqU"
      },
      "source": [
        "\n",
        "```\n",
        "min z  =  x1 -  x2  + 0 x3 + 0 x4\n",
        "\n",
        "s.t.    2 x1 + 3 x2 -   x3 +   x4 <= 0\n",
        "\n",
        "        3 x1 +   x2 + 4 x3 - 2 x4 >= 3\n",
        "          \n",
        "        - x1 -   x2 + 2 x3 +   x4  = 6\n",
        "\n",
        "          x1 <= 0\n",
        "\n",
        "          x2,x3 >= 0\n",
        "          \n",
        "          x4 free\n",
        "```\n",
        "\n"
      ]
    },
    {
      "cell_type": "markdown",
      "source": [
        "**Dual of this LP above is as follows:**"
      ],
      "metadata": {
        "id": "gQwW2X3qT448"
      }
    },
    {
      "cell_type": "markdown",
      "source": [
        "```\n",
        "max w  = 0 p1 + 3 p2  + 6 p3\n",
        "\n",
        "s.t.     2 p1 + 3 p2  - 1 p3 >=  1\n",
        "\n",
        "         3 p1 + 1 p2  - 1 p3 <= -1\n",
        "          \n",
        "        -1 p1 + 4 p2  + 2 p3 <=  0\n",
        "        \n",
        "         1 p1 - 2 p2  + 1 p3  =  0\n",
        "\n",
        "           p1 <= 0\n",
        "\n",
        "           p2 >= 0\n",
        "          \n",
        "           p3 free\n",
        "```\n",
        "\n"
      ],
      "metadata": {
        "id": "kmFN2KARUvAp"
      }
    },
    {
      "cell_type": "markdown",
      "metadata": {
        "id": "ZkuJm_EniUqW"
      },
      "source": [
        "# *Linear Program for the Primal LP*"
      ]
    },
    {
      "cell_type": "code",
      "execution_count": null,
      "metadata": {
        "colab": {
          "base_uri": "https://localhost:8080/"
        },
        "id": "LRtybT--DJxC",
        "outputId": "784f8b48-4bf4-4aeb-afde-a7a49b14f56f"
      },
      "outputs": [
        {
          "output_type": "stream",
          "name": "stdout",
          "text": [
            "min z =  None\n",
            "at optimal solution x =  None\n",
            "The problem is unbounded. (HiGHS Status 10: model_status is Unbounded; primal_status is At upper bound)\n"
          ]
        }
      ],
      "source": [
        "\"\"\"\n",
        "Script to demonstrate how to solve small mixed integer programs\n",
        "using the python optimize module in the scipy package\n",
        "\"\"\"\n",
        "\"\"\"\n",
        "All decision variables are from reals:\n",
        "\"\"\"\n",
        "\n",
        "import pandas as pd\n",
        "import numpy as np\n",
        "import scipy.optimize as opt\n",
        "\n",
        "# The problem we will solve is:\n",
        "\n",
        "# EXercise 4.1\n",
        "\n",
        "\n",
        "# min z  =  x1 -  x2  + 0 x3 + 0 x4\n",
        "\n",
        "# s.t.    2 x1 + 3 x2 -   x3 +   x4 <=  0\n",
        "\n",
        "#       - 3 x1 -   x2 - 4 x3 + 2 x4 <= -3\n",
        "\n",
        "#         - x1 -   x2 + 2 x3 +   x4  =  6\n",
        "\n",
        "#           x1 <= 0\n",
        "\n",
        "#           x2,x3 >= 0\n",
        "\n",
        "#           x4 free\n",
        "\n",
        "#           x1, x2, x3, x4 in R\n",
        "\n",
        "function_array = list()\n",
        "solution_array = list()\n",
        "\n",
        "# First build the objective vector.\n",
        "c=np.array([ 1, -1,  0,  0])\n",
        "\n",
        "# Next, create the coefficient array for the inequality constraints.\n",
        "# Note that the inequalities must be Ax <= b, so some sign\n",
        "# changes result when converting >= into <=.\n",
        "# A = None # if no inequality constraints\n",
        "\n",
        "A = np.array([[   2,   3,  -1,   1],\\\n",
        "              [ - 3, - 1, - 4,   2]])\n",
        "\n",
        "# Next the right-hand-side vector for the inequalities\n",
        "# Sign changes can occur here too.\n",
        "# b = None # if no inequality constraints\n",
        "b = np.array([ 0 , - 3])\n",
        "\n",
        "\n",
        "#The coefficient matrix for the equality constraints and\n",
        "# the right hand side vector.\n",
        "# Ae = None # if no equality constraints\n",
        "\n",
        "Ae = np.array([[ - 1, - 1,   2,    1]])\n",
        "\n",
        "# be = None # if no equality constraints\n",
        "be = np.array([ 6 ])\n",
        "\n",
        "# Next, we provide any lower and upper bound vectors, one\n",
        "# value for each decision variable.  In this example all\n",
        "# lower bound are zero and there are no upper bounds.\n",
        "bounds=(( - np.inf, 0 ), ( 0, np.inf), ( 0, np.inf), ( - np.inf, np.inf))\n",
        "\n",
        "# Lastly, we can specify which variables are required to be integer.\n",
        "# If no variables are integer then isint=[];  In our example, only x2\n",
        "# is integer.\n",
        "# isint=[]\n",
        "\n",
        "# The call to the mixed integer solver looks like the following.\n",
        "# Notice that we pass usual \"c\" when we have a minimization\n",
        "# problem, we send \"-c\" when we have max problem.\n",
        "# This is because the solver is expecting a minimization.\n",
        "\n",
        "res=opt.linprog(c,A,b,Ae,be,bounds)\n",
        "\n",
        "# The result is stored in the dictionary variable \"res\".\n",
        "# In particular, to show the optimal objective value and the\n",
        "# optimal decision variable values:\n",
        "\n",
        "print(\"min z = \", res['fun'])\n",
        "print(\"at optimal solution x = \", res['x'])\n",
        "\n",
        "print(res['message'])\n",
        "# print(res['x'])\n",
        "# print(res)\n",
        "# print(np.dot(c, res['x']))\n",
        "\n",
        "# To download:\n",
        "# !sudo apt-get install texlive-xetex texlive-fonts-recommended texlive-plain-generic\n",
        "# !jupyter nbconvert --to pdf /content/math_464_actual_hw2.ipynb"
      ]
    },
    {
      "cell_type": "markdown",
      "source": [
        "# *Linear Program for the Dual LP*"
      ],
      "metadata": {
        "id": "VpUyi7tpaY9H"
      }
    },
    {
      "cell_type": "markdown",
      "source": [
        "**Since the dual LP is a max problem, I'll turn it into min problem during the program by giving negative, -w to make it compatible for the software:**"
      ],
      "metadata": {
        "id": "0xSaDxDAkhrg"
      }
    },
    {
      "cell_type": "code",
      "source": [
        "\"\"\"\n",
        "Script to demonstrate how to solve small mixed integer programs\n",
        "using the python optimize module in the scipy package\n",
        "\"\"\"\n",
        "\"\"\"\n",
        "All decision variables are from reals:\n",
        "\"\"\"\n",
        "\n",
        "import pandas as pd\n",
        "import numpy as np\n",
        "import scipy.optimize as opt\n",
        "\n",
        "# The problem we will solve is:\n",
        "\n",
        "# Dual LP of Exercise 4.1\n",
        "\n",
        "\n",
        "# min - w = - 0 p1 - 3 p2  - 6 p3  # turning to min problem\n",
        "\n",
        "# s.t.        2 p1 + 3 p2  - 1 p3 >=  1\n",
        "\n",
        "#             3 p1 + 1 p2  - 1 p3 <= -1\n",
        "\n",
        "#            -1 p1 + 4 p2  + 2 p3 <=  0\n",
        "\n",
        "#             1 p1 - 2 p2  + 1 p3  =  0\n",
        "\n",
        "#               p1 <= 0\n",
        "\n",
        "#               p2 >= 0\n",
        "\n",
        "#               p3 free\n",
        "\n",
        "#               p1, p2, p3 in R\n",
        "\n",
        "function_array = list()\n",
        "solution_array = list()\n",
        "\n",
        "# First build the objective vector.\n",
        "c=np.array([ 0, -3,  -6])\n",
        "\n",
        "# Next, create the coefficient array for the inequality constraints.\n",
        "# Note that the inequalities must be Ax <= b, so some sign\n",
        "# changes result when converting >= into <=.\n",
        "# A = None # if no inequality constraints\n",
        "\n",
        "A = np.array([[ - 2, - 3,   1],\\\n",
        "              [   3,   1,  -1],\\\n",
        "              [ - 1,   4,   2]])\n",
        "\n",
        "# Next the right-hand-side vector for the inequalities\n",
        "# Sign changes can occur here too.\n",
        "# b = None # if no inequality constraints\n",
        "b = np.array([ - 1, - 1,  0])\n",
        "\n",
        "\n",
        "#The coefficient matrix for the equality constraints and\n",
        "# the right hand side vector.\n",
        "# Ae = None # if no equality constraints\n",
        "\n",
        "Ae = np.array([[   1, - 2,   1]])\n",
        "\n",
        "# be = None # if no equality constraints\n",
        "be = np.array([ 0 ])\n",
        "\n",
        "# Next, we provide any lower and upper bound vectors, one\n",
        "# value for each decision variable.  In this example all\n",
        "# lower bound are zero and there are no upper bounds.\n",
        "bounds=(( - np.inf, 0 ), ( 0, np.inf), ( - np.inf, np.inf))\n",
        "\n",
        "# Lastly, we can specify which variables are required to be integer.\n",
        "# If no variables are integer then isint=[];  In our example, only x2\n",
        "# is integer.\n",
        "# isint=[]\n",
        "\n",
        "# The call to the mixed integer solver looks like the following.\n",
        "# Notice that we pass usual \"c\" when we have a minimization\n",
        "# problem, we send \"-c\" when we have max problem.\n",
        "# This is because the solver is expecting a minimization.\n",
        "\n",
        "res=opt.linprog(c,A,b,Ae,be,bounds)\n",
        "\n",
        "# The result is stored in the dictionary variable \"res\".\n",
        "# In particular, to show the optimal objective value and the\n",
        "# optimal decision variable values:\n",
        "\n",
        "print(\"min w = \", res['fun'])\n",
        "print(\"at optimal solution x = \", res['x'])\n",
        "print(res['message'])\n",
        "# print(res)\n",
        "# print(np.dot(c, res['x']))"
      ],
      "metadata": {
        "colab": {
          "base_uri": "https://localhost:8080/"
        },
        "id": "9OqK8m9aace1",
        "outputId": "08c92358-69b4-4aaf-e7d8-ccd08e02ec6e"
      },
      "execution_count": null,
      "outputs": [
        {
          "output_type": "stream",
          "name": "stdout",
          "text": [
            "min w =  None\n",
            "at optimal solution x =  None\n",
            "The problem is infeasible. (HiGHS Status 8: model_status is Infeasible; primal_status is Basic)\n"
          ]
        }
      ]
    },
    {
      "cell_type": "markdown",
      "source": [
        "**By the reulting table of possibilities for Primal and Dual LP's that we created based on Theorem 4.1(Weak duality), and Theorem 4.2(Strong duality),**\n",
        "\n",
        "**Unbounded Primal LP => Infeasible Dual LP!**\n",
        "\n",
        "**I'll give the reasoning on a separate page!**"
      ],
      "metadata": {
        "id": "ZjuWkw7OjXQn"
      }
    },
    {
      "cell_type": "code",
      "source": [
        "# !sudo apt-get install texlive-xetex texlive-fonts-recommended texlive-plain-generic"
      ],
      "metadata": {
        "id": "Gk6AuNV6GQ1o"
      },
      "execution_count": null,
      "outputs": []
    },
    {
      "cell_type": "code",
      "source": [
        "# !jupyter nbconvert --to pdf /content/math_464_actual_hw8.ipynb"
      ],
      "metadata": {
        "id": "Yg8thIzhGSH1"
      },
      "execution_count": null,
      "outputs": []
    }
  ],
  "metadata": {
    "colab": {
      "provenance": []
    },
    "kernelspec": {
      "display_name": "Python 3 (ipykernel)",
      "language": "python",
      "name": "python3"
    },
    "language_info": {
      "codemirror_mode": {
        "name": "ipython",
        "version": 3
      },
      "file_extension": ".py",
      "mimetype": "text/x-python",
      "name": "python",
      "nbconvert_exporter": "python",
      "pygments_lexer": "ipython3",
      "version": "3.9.7"
    }
  },
  "nbformat": 4,
  "nbformat_minor": 0
}