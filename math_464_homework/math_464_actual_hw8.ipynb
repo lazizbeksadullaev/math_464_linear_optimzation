{
  "cells": [
    {
      "cell_type": "markdown",
      "metadata": {
        "id": "5LC0g8q0iUqO"
      },
      "source": [
        "#**Math 464. HW8. Lazizbek**"
      ]
    },
    {
      "cell_type": "markdown",
      "metadata": {
        "id": "zNvYZcmXiUqU"
      },
      "source": [
        "**EXercise 3.17**\n",
        "\n",
        "```\n",
        "min z = 2 x1 + 3 x2 + 3 x3 +   x4 - 2 x5\n",
        "\n",
        "s.t.      x1 + 3 x2 + 0 x3 + 4 x4 +   x5 = 2\n",
        "\n",
        "          x1 + 2 x2 + 0 x3 - 3 x4 +   x5 = 2\n",
        "          \n",
        "          (-1/3) x1 -(4/3)x2 + x3 + 0 x4 + 0 x5 = (1/3)\n",
        "\n",
        "          x >= 0\n",
        "\n",
        "          x1, x2,x3,x4, x5 in R\n",
        "```\n",
        "\n"
      ]
    },
    {
      "cell_type": "markdown",
      "metadata": {
        "id": "ZkuJm_EniUqW"
      },
      "source": [
        "# *Linear Program*\n",
        "Now let's see the case where **all** decison variables are **reals**"
      ]
    },
    {
      "cell_type": "code",
      "execution_count": 9,
      "metadata": {
        "colab": {
          "base_uri": "https://localhost:8080/"
        },
        "id": "LRtybT--DJxC",
        "outputId": "a3fea83c-d4d9-4680-9919-6c5eb7afc3dc"
      },
      "outputs": [
        {
          "output_type": "stream",
          "name": "stdout",
          "text": [
            "min z =  -3.0\n",
            "at optimal solution x =  [0.         0.         0.33333333 0.         2.        ]\n"
          ]
        }
      ],
      "source": [
        "\"\"\"\n",
        "Script to demonstrate how to solve small mixed integer programs\n",
        "using the python optimize module in the scipy package\n",
        "\"\"\"\n",
        "\"\"\"\n",
        "All decision variables are from reals:\n",
        "\"\"\"\n",
        "\n",
        "import pandas as pd\n",
        "import numpy as np\n",
        "import scipy.optimize as opt\n",
        "\n",
        "# The problem we will solve is:\n",
        "#\n",
        "# min z = 2 x1 + 3 x2 + 3 x3 +   x4 - 2 x5\n",
        "# s.t.      x1 + 3 x2 + 0 x3 + 4 x4 +   x5 = 2\n",
        "#           x1 + 2 x2 + 0 x3 - 3 x4 +   x5 = 2\n",
        "#     (-1/3)x1 -(4/3)x2 + x3 + 0 x4 + 0 x5 = (1/3)\n",
        "#           x >= 0\n",
        "#           x1, x2,x3,x4, x5 in R\n",
        "\n",
        "function_array = list()\n",
        "solution_array = list()\n",
        "\n",
        "# First build the objective vector.\n",
        "c=np.array([2, 3, 3, 1, -2])\n",
        "\n",
        "# Next, create the coefficient array for the inequality constraints.\n",
        "# Note that the inequalities must be Ax <= b, so some sign\n",
        "# changes result when converting >= into <=.\n",
        "# A = np.array([[   1,   3,   0,    4,    1],\\\n",
        "#               [   1,   2,   0,   -3,    1],\\\n",
        "#               [(-1/3), (-4/3), 1, 0,    0]])\n",
        "A = None\n",
        "\n",
        "# Next the right-hand-side vector for the inequalities\n",
        "# Sign changes can occur here too.\n",
        "# b = np.array([345 , 50000 , 60000, 0, 0, 0, 0, 0, 0 ])\n",
        "b = None\n",
        "\n",
        "#The coefficient matrix for the equality constraints and\n",
        "# the right hand side vector.\n",
        "Ae = np.array([[   1,   3,   0,    4,    1],\\\n",
        "              [   1,   2,   0,   -3,    1],\\\n",
        "              [(-1/3), (-4/3), 1, 0,    0]])     # Ae = [[1,1,1,1]]\n",
        "\n",
        "be = np.array([ 2, 2, (1/3)])\n",
        "\n",
        "# Next, we provide any lower and upper bound vectors, one\n",
        "# value for each decision variable.  In this example all\n",
        "# lower bound are zero and there are no upper bounds.\n",
        "bounds=((0,np.inf),(0,np.inf),(0,np.inf),(0,np.inf),(0,np.inf))\n",
        "\n",
        "# Lastly, we can specify which variables are required to be integer.\n",
        "# If no variables are integer then isint=[];  In our example, only x2\n",
        "# is integer.\n",
        "# isint=[]\n",
        "\n",
        "# The call to the mixed integer solver looks like the following.\n",
        "# Notice that we pass usual \"c\" when we have a minimization\n",
        "# problem, we send \"-c\" when we have max problem.\n",
        "# This is because the solver is expecting a minimization.\n",
        "\n",
        "res=opt.linprog(c,A,b,Ae,be,bounds)\n",
        "\n",
        "# The result is stored in the dictionary variable \"res\".\n",
        "# In particular, to show the optimal objective value and the\n",
        "# optimal decision variable values:\n",
        "\n",
        "print(\"min z = \", res['fun'])\n",
        "print(\"at optimal solution x = \", res['x'])\n",
        "\n",
        "# print(res['x'])\n",
        "# print(np.dot(c, res['x']))\n",
        "# print(res)\n",
        "\n",
        "# To download:\n",
        "# !sudo apt-get install texlive-xetex texlive-fonts-recommended texlive-plain-generic\n",
        "# !jupyter nbconvert --to pdf /content/math_464_actual_hw2.ipynb"
      ]
    }
  ],
  "metadata": {
    "colab": {
      "provenance": []
    },
    "kernelspec": {
      "display_name": "Python 3 (ipykernel)",
      "language": "python",
      "name": "python3"
    },
    "language_info": {
      "codemirror_mode": {
        "name": "ipython",
        "version": 3
      },
      "file_extension": ".py",
      "mimetype": "text/x-python",
      "name": "python",
      "nbconvert_exporter": "python",
      "pygments_lexer": "ipython3",
      "version": "3.9.7"
    }
  },
  "nbformat": 4,
  "nbformat_minor": 0
}