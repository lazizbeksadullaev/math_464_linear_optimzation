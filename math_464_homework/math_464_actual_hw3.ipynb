{
  "cells": [
    {
      "cell_type": "markdown",
      "metadata": {
        "id": "5LC0g8q0iUqO"
      },
      "source": [
        "**Math 464. HW3. Lazizbek Sadullaev**"
      ]
    },
    {
      "cell_type": "markdown",
      "metadata": {
        "id": "lFUvRLUxiUqZ"
      },
      "source": [
        "# *Integer Program*\n",
        "**The integer program I've come up with the given problem is as follows:**"
      ]
    },
    {
      "cell_type": "code",
      "execution_count": 12,
      "metadata": {
        "colab": {
          "base_uri": "https://localhost:8080/"
        },
        "id": "rR4u5JN8iUqa",
        "outputId": "9bc20405-4804-47cc-98f8-1f969e927aed"
      },
      "outputs": [
        {
          "output_type": "stream",
          "name": "stdout",
          "text": [
            "min z =  236.0\n",
            "1.0\n",
            "[4. 1. 1. 3. 1. 1.]\n",
            "235.0\n",
            "-237.0\n",
            "56.0\n",
            "        message: Optimization terminated successfully. (HiGHS Status 7: Optimal)\n",
            "        success: True\n",
            "         status: 0\n",
            "            fun: 1.0\n",
            "              x: [ 4.000e+00  1.000e+00  1.000e+00  3.000e+00  1.000e+00\n",
            "                   1.000e+00]\n",
            "            nit: -1\n",
            "          lower:  residual: [ 3.000e+00  0.000e+00  0.000e+00  2.000e+00\n",
            "                              0.000e+00  0.000e+00]\n",
            "                 marginals: [ 0.000e+00  0.000e+00  0.000e+00  0.000e+00\n",
            "                              0.000e+00  0.000e+00]\n",
            "          upper:  residual: [       inf        inf        inf        inf\n",
            "                                    inf        inf]\n",
            "                 marginals: [ 0.000e+00  0.000e+00  0.000e+00  0.000e+00\n",
            "                              0.000e+00  0.000e+00]\n",
            "          eqlin:  residual: []\n",
            "                 marginals: []\n",
            "        ineqlin:  residual: [ 0.000e+00  2.000e+00  1.000e+00]\n",
            "                 marginals: [ 0.000e+00  0.000e+00  0.000e+00]\n",
            " mip_node_count: 1\n",
            " mip_dual_bound: 1.0\n",
            "        mip_gap: 0.0\n",
            "236\n"
          ]
        }
      ],
      "source": [
        "\"\"\"\n",
        "All decision variables are from integers:\n",
        "\"\"\"\n",
        "\n",
        "import pandas as pd\n",
        "import numpy as np\n",
        "import scipy.optimize as opt\n",
        "\n",
        "# The problem we will solve is:\n",
        "#\n",
        "# min z = 0 x1 + 0 x2 + 0 x3 + 0 x4 + 0 x5 + delta\n",
        "# s.t.   35 x1 + 26 x2 + 21  x3 + 15 x4 + 4 x5 - delta <= 235\n",
        "#        -35 x1 - 26 x2 - 21  x3 - 15 x4 - 4 x5 - delta <= -235\n",
        "#         6 x1 +  5 x2 + 7 x3 + 4 x4 + 8 x5 <= 57\n",
        "#           x >= 1\n",
        "#           x1, x2,x3,x4, x5 in Z\n",
        "\n",
        "# First build the objective vector.\n",
        "c=np.array([0, 0, 0, 0, 0, 1])\n",
        "\n",
        "# Next, create the coefficient array for the inequality constraints.\n",
        "# Note that the inequalities must be Ax <= b, so some sign\n",
        "# changes result when converting >= into <=.\n",
        "A = np.array([[  35,   26,   21,   15,  4,  -1],\\\n",
        "              [ -35,  -26,  -21,  -15, -4,  -1],\\\n",
        "              [   6,    5,    7,    4,  8,   0]] )\n",
        "\n",
        "# Next the right-hand-side vector for the inequalities\n",
        "# Sign changes can occur here too.\n",
        "b = np.array([235 , -235 , 57 ])\n",
        "\n",
        "#The coefficient matrix for the equality constraints and\n",
        "# the right hand side vector.\n",
        "Ae = None     # Ae = [[1,1,1,1]]\n",
        "be = None\n",
        "\n",
        "# Next, we provide any lower and upper bound vectors, one\n",
        "# value for each decision variable.  In this example all\n",
        "# lower bound are zero and there are no upper bounds.\n",
        "bounds=((1,np.inf),(1,np.inf),(1,np.inf),(1,np.inf), (1,np.inf), (1,np.inf))\n",
        "\n",
        "# Lastly, we can specify which variables are required to be integer.\n",
        "# If no variables are integer then isint=[];  In our example, only x2\n",
        "# is integer.\n",
        "isint=[1,1,1,1,1, 0]\n",
        "\n",
        "# The call to the mixed integer solver looks like the following.\n",
        "# Notice that we pass usual \"c\" when we have a maximization\n",
        "# problem, we send \"-c\".  This is because the solver is expecting a minimization.\n",
        "res=opt.linprog(c,A,b,Ae,be,bounds,integrality=isint)\n",
        "\n",
        "# The result is stored in the dictionary variable \"res\".\n",
        "# In particular, to show the optimal objective value and the\n",
        "# optimal decision variable values:\n",
        "print(\"min z = \", np.dot(res['x'][:5], A[0][:5]))\n",
        "print(res['fun'])\n",
        "print(res['x'])\n",
        "print(np.dot(res['x'], A[0])) # to verify if the answer is corret\n",
        "print(np.dot(res['x'], A[1]))\n",
        "print(np.dot(res['x'], A[2]))\n",
        "\n",
        "print(res)\n",
        "# print(model.computeIIS())\n",
        "print(35*4+26+21+15*3+4)"
      ]
    },
    {
      "cell_type": "markdown",
      "source": [
        "I've read an article on the web about [**How do I determine why my model is infeasible?**](https://support.gurobi.com/hc/en-us/articles/360029969391-How-do-I-determine-why-my-model-is-infeasible). Although I could not exactly understood I've tried to implement it above to identify the things to modify.\n",
        "\n",
        "I'll give my ideas on how I came up with the model above on a separate paper!"
      ],
      "metadata": {
        "id": "w3Jvk3s2dx2v"
      }
    },
    {
      "cell_type": "code",
      "source": [],
      "metadata": {
        "id": "HcBk-UBeE7Vd"
      },
      "execution_count": null,
      "outputs": []
    }
  ],
  "metadata": {
    "colab": {
      "provenance": []
    },
    "kernelspec": {
      "display_name": "Python 3 (ipykernel)",
      "language": "python",
      "name": "python3"
    },
    "language_info": {
      "codemirror_mode": {
        "name": "ipython",
        "version": 3
      },
      "file_extension": ".py",
      "mimetype": "text/x-python",
      "name": "python",
      "nbconvert_exporter": "python",
      "pygments_lexer": "ipython3",
      "version": "3.9.7"
    }
  },
  "nbformat": 4,
  "nbformat_minor": 0
}